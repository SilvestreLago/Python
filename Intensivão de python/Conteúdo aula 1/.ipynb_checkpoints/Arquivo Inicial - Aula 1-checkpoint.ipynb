{
 "cells": [
  {
   "cell_type": "markdown",
   "metadata": {},
   "source": [
    "# Automação de Sistemas e Processos com Python\n",
    "\n",
    "### Desafio:\n",
    "\n",
    "Todos os dias, o nosso sistema atualiza as vendas do dia anterior.\n",
    "O seu trabalho diário, como analista, é enviar um e-mail para a diretoria, assim que começar a trabalhar, com o faturamento e a quantidade de produtos vendidos no dia anterior\n",
    "\n",
    "E-mail da diretoria: seugmail+diretoria@gmail.com<br>\n",
    "Local onde o sistema disponibiliza as vendas do dia anterior: https://drive.google.com/drive/folders/149xknr9JvrlEnhNWO49zPcw0PW5icxga?usp=sharing\n",
    "\n",
    "Para resolver isso, vamos usar o pyautogui, uma biblioteca de automação de comandos do mouse e do teclado"
   ]
  },
  {
   "cell_type": "markdown",
   "metadata": {},
   "source": [
    "### Vamos agora ler o arquivo baixado para pegar os indicadores\n",
    "\n",
    "- Faturamento\n",
    "- Quantidade de Produtos"
   ]
  },
  {
   "cell_type": "markdown",
   "metadata": {},
   "source": [
    "### Vamos agora enviar um e-mail pelo gmail"
   ]
  },
  {
   "cell_type": "code",
   "execution_count": 78,
   "metadata": {},
   "outputs": [],
   "source": [
    "import pyautogui as pg\n",
    "import pyperclip as pc\n",
    "import pandas as pd\n",
    "import time\n",
    "\n",
    "pyautogui.PAUSE=1\n",
    "\n",
    "pg.hotkey('ctrl','t')\n",
    "n3='https://drive.google.com/drive/folders/149xknr9JvrlEnhNWO49zPcw0PW5icxga?usp=sharing'\n",
    "pc.copy(n3)\n",
    "pg.hotkey('ctrl', 'v')\n",
    "pg.press('enter')\n",
    "time.sleep(3)\n",
    "pg.click(x=338, y=261, clicks=2)\n",
    "time.sleep(3)\n",
    "pg.click(x=341, y=251)\n",
    "pg.click(x=1208, y=165)\n",
    "pg.click(x=1077, y=557)\n",
    "tabela=pd.read_excel(r'C:\\Users\\Riva\\Downloads\\Vendas - Dez.xlsx')\n",
    "faturamento=tabela['Valor Final'].sum()\n",
    "produtos=tabela['Quantidade'].sum()\n",
    "pg.hotkey('ctrl','t')\n",
    "n4=('https://mail.google.com/mail/u/0/#inbox')\n",
    "pg.write(n4)\n",
    "pg.press('enter')\n",
    "time.sleep(3)\n",
    "pg.click(x=36, y=172)\n",
    "mail=('silvestrelago97@gmail.com')\n",
    "assunto=('Testando')\n",
    "pc.copy('''\n",
    "Boa noite.\n",
    "O faturamento foi de R${:,.2f}.\n",
    "A quantidade de vendas foi de {:,} produtos.\n",
    "Muito obrigado, atenciosamente João Vitor\n",
    "'''.format(faturamento,produtos))\n",
    "pg.write(mail)\n",
    "pg.press('tab')\n",
    "pg.press('tab')\n",
    "pg.write(assunto)\n",
    "pg.press('tab')\n",
    "pg.hotkey('ctrl', 'v')\n",
    "pg.hotkey('ctrl', 'enter')"
   ]
  }
 ],
 "metadata": {
  "kernelspec": {
   "display_name": "Python 3",
   "language": "python",
   "name": "python3"
  },
  "language_info": {
   "codemirror_mode": {
    "name": "ipython",
    "version": 3
   },
   "file_extension": ".py",
   "mimetype": "text/x-python",
   "name": "python",
   "nbconvert_exporter": "python",
   "pygments_lexer": "ipython3",
   "version": "3.8.8"
  }
 },
 "nbformat": 4,
 "nbformat_minor": 4
}

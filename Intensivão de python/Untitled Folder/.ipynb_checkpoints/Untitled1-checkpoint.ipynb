{
 "cells": [
  {
   "cell_type": "code",
   "execution_count": null,
   "id": "38be7e4e",
   "metadata": {},
   "outputs": [],
   "source": [
    "import pyautogui as pg\n",
    "from selenium import webdriver\n",
    "pg.PAUSE=1\n",
    "\n",
    "email=pg.prompt(text='Qual o seu email? ')\n",
    "senha=pg.password(text='Qual a sua senha? ')\n",
    "if senha!='2640':\n",
    "    exit()\n",
    "\n",
    "navegador = webdriver.Chrome()\n",
    "navegador.get('https://www.google.com.br/')\n",
    "navegador.find_element_by_xpath()"
   ]
  },
  {
   "cell_type": "code",
   "execution_count": null,
   "id": "2451b1a7",
   "metadata": {},
   "outputs": [],
   "source": []
  }
 ],
 "metadata": {
  "kernelspec": {
   "display_name": "Python 3",
   "language": "python",
   "name": "python3"
  },
  "language_info": {
   "codemirror_mode": {
    "name": "ipython",
    "version": 3
   },
   "file_extension": ".py",
   "mimetype": "text/x-python",
   "name": "python",
   "nbconvert_exporter": "python",
   "pygments_lexer": "ipython3",
   "version": "3.8.8"
  }
 },
 "nbformat": 4,
 "nbformat_minor": 5
}

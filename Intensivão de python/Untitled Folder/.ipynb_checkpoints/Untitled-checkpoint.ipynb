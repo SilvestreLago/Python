{
 "cells": [
  {
   "cell_type": "code",
   "execution_count": 41,
   "id": "8d33c122",
   "metadata": {},
   "outputs": [
    {
     "data": {
      "text/plain": [
       "Point(x=0, y=0)"
      ]
     },
     "execution_count": 41,
     "metadata": {},
     "output_type": "execute_result"
    }
   ],
   "source": [
    "import pyautogui as pg\n",
    "pg.sleep(5)\n",
    "pg.position()\n"
   ]
  },
  {
   "cell_type": "code",
   "execution_count": 42,
   "id": "c19be631",
   "metadata": {},
   "outputs": [
    {
     "name": "stdout",
     "output_type": "stream",
     "text": [
      "Insira o seu email: silvestrelago97@gmail.com\n",
      "Insira a senha: ovc58240\n"
     ]
    }
   ],
   "source": [
    "import pandas as pd\n",
    "import pyautogui as pg\n",
    "import pyperclip as pc\n",
    "import time\n",
    "\n",
    "pg.PAUSE=1\n",
    "\n",
    "#COLETANDO O EMAIL E SENHA\n",
    "n1=input('Insira o seu email: ')\n",
    "n2=input('Insira a senha: ')\n",
    "\n",
    "#ABRINDO O GOOGLE DRIVE\n",
    "drive=('https://accounts.google.com/signin/v2/identifier?service=wise&passive=true&continue=http%3A%2F%2Fdrive.google.com%2F%3Futm_source%3Den&utm_medium=button&utm_campaign=web&utm_content=gotodrive&usp=gtd&ltmpl=drive&flowName=GlifWebSignIn&flowEntry=ServiceLogin')\n",
    "pg.hotkey('ctrl', 'shift', 'n')\n",
    "time.sleep(5)\n",
    "pc.copy(drive)\n",
    "pg.hotkey('ctrl', 'v')\n",
    "pg.press('enter')\n",
    "time.sleep(5)\n",
    "pg.press('f11')\n",
    "pc.copy(n1)\n",
    "pg.hotkey('ctrl', 'v')\n",
    "pg.press('enter')\n",
    "time.sleep(5)\n",
    "pc.copy(n2)\n",
    "pg.hotkey('ctrl', 'v')\n",
    "pg.press('enter')\n",
    "time.sleep(5)\n",
    "pg.click(x=155, y=235)\n",
    "time.sleep(3)\n",
    "\n",
    "#BAIXANDO ARQUIVO\n",
    "pg.click(x=338, y=218, clicks=2)\n",
    "time.sleep(3)\n",
    "pg.click(x=339, y=182, clicks=2)\n",
    "time.sleep(3)\n",
    "pg.click(x=339, y=182)\n",
    "pg.click(x=1221, y=97)\n",
    "pg.click(x=1091, y=481)\n",
    "time.sleep(3)\n",
    "\n",
    "#ANALIZANDO ARQUIVO\n",
    "tabela=pd.read_excel(r'C:\\Users\\Riva\\Downloads\\Vendas - Dez.xlsx')\n",
    "faturamento=tabela['Valor Final'].sum()\n",
    "produtos=tabela['Quantidade'].sum()\n",
    "\n",
    "#ABRINDO O GMAIL\n",
    "pg.hotkey('ctrl', 'shift', 'n')\n",
    "gmail=('https://accounts.google.com/signin/v2/identifier?service=mail&passive=true&rm=false&continue=https%3A%2F%2Fmail.google.com%2Fmail%2F&ss=1&scc=1&ltmpl=default&ltmplcache=2&emr=1&osid=1&flowName=GlifWebSignIn&flowEntry=ServiceLogin')\n",
    "pc.copy(gmail)\n",
    "pg.hotkey('ctrl', 'v')\n",
    "pg.press('enter')\n",
    "time.sleep(5)\n",
    "\n",
    "#COLOCANDO O EMAIL E SENHA\n",
    "pg.press('f11')\n",
    "pc.copy(n1)\n",
    "pg.hotkey('ctrl', 'v')\n",
    "pg.press('enter')\n",
    "time.sleep(5)\n",
    "pc.copy(n2)\n",
    "pg.hotkey('ctrl', 'v')\n",
    "pg.press('enter')\n",
    "time.sleep(5)\n",
    "\n",
    "#ENVIANDO O EMAIL COM A ANALIZE \n",
    "pg.click(x=27, y=93)\n",
    "mail=('silvestrelago97@gmail.com')\n",
    "assunto=('Testando')\n",
    "pc.copy('''\n",
    "Boa noite.\n",
    "O faturamento foi de R${:,.2f}.\n",
    "A quantidade de vendas foi de {:,} produtos.\n",
    "Muito obrigado, atenciosamente João Vitor\n",
    "'''.format(faturamento,produtos))\n",
    "pg.write(mail)\n",
    "pg.press('tab')\n",
    "pg.press('tab')\n",
    "pg.write(assunto)\n",
    "pg.press('tab')\n",
    "pg.hotkey('ctrl', 'v')\n",
    "pg.hotkey('ctrl', 'enter')"
   ]
  },
  {
   "cell_type": "code",
   "execution_count": null,
   "id": "2d1592a2",
   "metadata": {},
   "outputs": [],
   "source": [
    "import pandas as pd\n",
    "import pyautogui as pg\n",
    "import pyperclip as pc\n",
    "import time\n",
    "\n",
    "pg.PAUSE=1\n",
    "from selenium import webdriver as wd\n",
    "from selenium.webdriver.common.keys import Keys\n",
    "\n",
    "navegador= wd.Chrome()\n",
    "drive=('https://accounts.google.com/signin/v2/identifier?service=wise&passive=true&continue=http%3A%2F%2Fdrive.google.com%2F%3Futm_source%3Den&utm_medium=button&utm_campaign=web&utm_content=gotodrive&usp=gtd&ltmpl=drive&flowName=GlifWebSignIn&flowEntry=ServiceLogin')\n",
    "gmail=('https://accounts.google.com/signin/v2/identifier?service=mail&passive=true&rm=false&continue=https%3A%2F%2Fmail.google.com%2Fmail%2F&ss=1&scc=1&ltmpl=default&ltmplcache=2&emr=1&osid=1&flowName=GlifWebSignIn&flowEntry=ServiceLogin')\n",
    "email=('silvestrelago97@gmail.com')\n",
    "navegador.get(drive)\n",
    "pg.sleep(5)\n",
    "pg.write(email)\n",
    "pg.press('enter')\n"
   ]
  },
  {
   "cell_type": "code",
   "execution_count": null,
   "id": "4ab59d1c",
   "metadata": {},
   "outputs": [],
   "source": []
  }
 ],
 "metadata": {
  "kernelspec": {
   "display_name": "Python 3",
   "language": "python",
   "name": "python3"
  },
  "language_info": {
   "codemirror_mode": {
    "name": "ipython",
    "version": 3
   },
   "file_extension": ".py",
   "mimetype": "text/x-python",
   "name": "python",
   "nbconvert_exporter": "python",
   "pygments_lexer": "ipython3",
   "version": "3.8.8"
  }
 },
 "nbformat": 4,
 "nbformat_minor": 5
}
